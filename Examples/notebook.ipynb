{
 "cells": [
  {
   "cell_type": "code",
   "execution_count": 1,
   "metadata": {},
   "outputs": [],
   "source": [
    "from ReCatcher.recatcher import ReCatcher\n",
    "from ReCatcher.utils import comment_duplication\n",
    "import pandas as pd"
   ]
  },
  {
   "cell_type": "code",
   "execution_count": 2,
   "metadata": {},
   "outputs": [],
   "source": [
    "re_catcher = ReCatcher(benchmark=\"path to benchmark\")"
   ]
  },
  {
   "cell_type": "code",
   "execution_count": 3,
   "metadata": {},
   "outputs": [],
   "source": [
    "results1_df = pd.read_csv(\"original model generations in csv file\")\n",
    "results2_df = pd.read_csv(\"variant/new version model generations in csv file\")"
   ]
  },
  {
   "cell_type": "code",
   "execution_count": 5,
   "metadata": {},
   "outputs": [],
   "source": [
    "# performance testing\n",
    "x1, x2 = re_catcher.test_regression(result1_df=results1_df, result2_df=results2_df, method=\"compare_performance\", result_dir=\"results\")\n",
    "print(x1, x2)\n",
    "\n",
    "# logical correctness testing \n",
    "x1, x2 = re_catcher.test_regression(result1_df=results1_df, result2_df=results2_df, method=\"general_logic\", result_dir=\"results\")\n",
    "print(x1, x2)\n",
    "\n",
    "# static code issues testing\n",
    "# you need to chose the respective test: here it is comment_duplication, all what you need to do is replace with the method \n",
    "\n",
    "x1, x2 = re_catcher.test_regression(result1_df=results1_df, result2_df=results2_df, method=comment_duplication, result_dir=\"results\")\n",
    "print(x1, x2)"
   ]
  }
 ],
 "metadata": {
  "kernelspec": {
   "display_name": "clean_env",
   "language": "python",
   "name": "python3"
  },
  "language_info": {
   "codemirror_mode": {
    "name": "ipython",
    "version": 3
   },
   "file_extension": ".py",
   "mimetype": "text/x-python",
   "name": "python",
   "nbconvert_exporter": "python",
   "pygments_lexer": "ipython3",
   "version": "3.9.21"
  }
 },
 "nbformat": 4,
 "nbformat_minor": 2
}
